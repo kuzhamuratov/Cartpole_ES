{
 "cells": [
  {
   "cell_type": "code",
   "execution_count": 1,
   "metadata": {},
   "outputs": [
    {
     "data": {
      "text/plain": [
       "<matplotlib.image.AxesImage at 0x176f00af048>"
      ]
     },
     "execution_count": 1,
     "metadata": {},
     "output_type": "execute_result"
    },
    {
     "data": {
      "image/png": "[encoded data removed]",
      "text/plain": [
       "<Figure size 432x288 with 1 Axes>"
      ]
     },
     "metadata": {},
     "output_type": "display_data"
    }
   ],
   "source": [
    "import gym \n",
    "import matplotlib.pyplot as plt\n",
    "import numpy as np\n",
    "%matplotlib inline\n",
    "env = gym.make(\"CartPole-v0\")\n",
    "env.reset()\n",
    "n_actions = env.action_space.n\n",
    "\n",
    "plt.imshow(env.render(\"rgb_array\"))"
   ]
  },
  {
   "cell_type": "code",
   "execution_count": 2,
   "metadata": {},
   "outputs": [],
   "source": [
    "from joblib import Parallel, delayed"
   ]
  },
  {
   "cell_type": "code",
   "execution_count": 3,
   "metadata": {},
   "outputs": [],
   "source": [
    "N = 1000 # n_of_frames for each game \n",
    "npop = 100 # population size\n",
    "sigma= 0.1 # deviation \n",
    "w = np.random.randn(4) # probabilities of action_0 on each frame ## to update!\n",
    "alpha =0.1 #learning rate"
   ]
  },
  {
   "cell_type": "code",
   "execution_count": 4,
   "metadata": {},
   "outputs": [],
   "source": [
    "def training(w_new):\n",
    "    env = gym.make(\"CartPole-v0\")\n",
    "    s = env.reset()\n",
    "    rewards= []\n",
    "    for j in range(N):\n",
    "        prob = np.clip(np.dot(w_new.T,s),0,1)\n",
    "        p = [prob,1.-prob]\n",
    "        new_state, r, done, _ = env.step(np.random.choice(n_actions,p = p))\n",
    "        rewards.append(r)\n",
    "        s=new_state\n",
    "        if done:\n",
    "            break\n",
    "    return sum(rewards)"
   ]
  },
  {
   "cell_type": "code",
   "execution_count": 5,
   "metadata": {},
   "outputs": [],
   "source": [
    "def full_train(w):\n",
    "    for n_episodes in range(1000):\n",
    "        R=[]\n",
    "        w_try = np.random.randn(npop,4) \n",
    "    \n",
    "        for i in range(npop):\n",
    "            w_new=w + sigma*w_try[i]\n",
    "            R.append(training(w_new))\n",
    "        if n_episodes%10 == 0: print('episode of game {}, mean reward over population {}'\n",
    "                                .format(n_episodes, np.mean(R)))\n",
    "        if np.mean(R) > 195: \n",
    "            print('iteration {} mean reward over population {}'.format(n_episodes,np.mean(R)))\n",
    "            break\n",
    "        R = (R-np.mean(R))/(1+np.std(R))\n",
    "        w += alpha/(npop*sigma)* np.dot(w_try.T,R)   \n",
    "    return w"
   ]
  },
  {
   "cell_type": "code",
   "execution_count": 6,
   "metadata": {},
   "outputs": [
    {
     "name": "stdout",
     "output_type": "stream",
     "text": [
      "episode of game 0, mean reward over population 24.14\n",
      "episode of game 10, mean reward over population 39.74\n",
      "episode of game 20, mean reward over population 47.7\n",
      "episode of game 30, mean reward over population 50.4\n",
      "episode of game 40, mean reward over population 55.65\n",
      "episode of game 50, mean reward over population 64.92\n",
      "episode of game 60, mean reward over population 61.97\n",
      "episode of game 70, mean reward over population 63.68\n",
      "episode of game 80, mean reward over population 63.01\n",
      "episode of game 90, mean reward over population 71.33\n",
      "episode of game 100, mean reward over population 78.94\n",
      "episode of game 110, mean reward over population 73.48\n",
      "episode of game 120, mean reward over population 68.07\n",
      "episode of game 130, mean reward over population 70.2\n",
      "episode of game 140, mean reward over population 108.32\n",
      "episode of game 150, mean reward over population 139.05\n",
      "episode of game 160, mean reward over population 173.31\n",
      "iteration 162 mean reward over population 199.58\n",
      "Wall time: 41.9 s\n"
     ]
    }
   ],
   "source": [
    "%%time\n",
    "w_new = full_train(w)"
   ]
  },
  {
   "cell_type": "code",
   "execution_count": 15,
   "metadata": {},
   "outputs": [],
   "source": [
    "N = 1000 # n_of_frames for each game \n",
    "npop = 100 # population size\n",
    "sigma= 0.1 # deviation \n",
    "w = np.random.randn(4) # probabilities of action_0 on each frame ## to update!\n",
    "alpha =0.1 #learning rate"
   ]
  },
  {
   "cell_type": "code",
   "execution_count": 16,
   "metadata": {},
   "outputs": [],
   "source": [
    "def training_parallel(w_new):\n",
    "    env = gym.make(\"CartPole-v0\").env\n",
    "    s = env.reset()\n",
    "    rewards= []\n",
    "    for j in range(N):\n",
    "        prob = np.clip(np.dot(w_new.T,s),0,1)\n",
    "        p = [prob,1.-prob]\n",
    "        new_state, r, done, _ = env.step(np.random.choice(n_actions,p = p))\n",
    "        rewards.append(r)\n",
    "        s=new_state\n",
    "        if done:\n",
    "            break\n",
    "    return sum(rewards)"
   ]
  },
  {
   "cell_type": "code",
   "execution_count": 17,
   "metadata": {},
   "outputs": [],
   "source": [
    "def full_train_parallel(w):\n",
    "    for n_episodes in range(1000):\n",
    "        w_try = np.random.randn(npop,4) \n",
    "        R = Parallel(n_jobs=4)(delayed(training_parallel)(w+sigma*w_try[i]) for i in range(npop))\n",
    "        \n",
    "        if n_episodes%10 == 0: print('episode of game {}, mean reward over population {}'\n",
    "                                .format(n_episodes, np.mean(R)))\n",
    "        if np.mean(R) > 195: \n",
    "            print('iteration {} mean reward over population {}'.format(n_episodes,np.mean(R)))\n",
    "            break\n",
    "        R = (R-np.mean(R))/(1+np.std(R))\n",
    "        w += alpha/(npop*sigma)* np.dot(w_try.T,R)    \n",
    "    return w"
   ]
  },
  {
   "cell_type": "code",
   "execution_count": 18,
   "metadata": {},
   "outputs": [
    {
     "name": "stdout",
     "output_type": "stream",
     "text": [
      "episode of game 0, mean reward over population 20.29\n",
      "episode of game 10, mean reward over population 31.98\n",
      "episode of game 20, mean reward over population 38.4\n",
      "episode of game 30, mean reward over population 42.98\n",
      "episode of game 40, mean reward over population 48.24\n",
      "episode of game 50, mean reward over population 47.46\n",
      "episode of game 60, mean reward over population 45.61\n",
      "episode of game 70, mean reward over population 46.96\n",
      "episode of game 80, mean reward over population 44.1\n",
      "episode of game 90, mean reward over population 46.69\n",
      "episode of game 100, mean reward over population 48.07\n",
      "episode of game 110, mean reward over population 46.88\n",
      "episode of game 120, mean reward over population 51.67\n",
      "episode of game 130, mean reward over population 53.57\n",
      "episode of game 140, mean reward over population 57.51\n",
      "episode of game 150, mean reward over population 57.57\n",
      "episode of game 160, mean reward over population 59.13\n",
      "episode of game 170, mean reward over population 58.96\n",
      "episode of game 180, mean reward over population 60.49\n",
      "episode of game 190, mean reward over population 63.14\n",
      "episode of game 200, mean reward over population 61.32\n",
      "episode of game 210, mean reward over population 61.97\n",
      "episode of game 220, mean reward over population 60.45\n",
      "episode of game 230, mean reward over population 61.54\n",
      "episode of game 240, mean reward over population 62.73\n",
      "episode of game 250, mean reward over population 66.58\n",
      "episode of game 260, mean reward over population 62.79\n",
      "episode of game 270, mean reward over population 69.43\n",
      "episode of game 280, mean reward over population 66.06\n",
      "episode of game 290, mean reward over population 73.3\n",
      "episode of game 300, mean reward over population 68.93\n",
      "episode of game 310, mean reward over population 70.69\n",
      "episode of game 320, mean reward over population 64.36\n",
      "episode of game 330, mean reward over population 74.15\n",
      "episode of game 340, mean reward over population 71.88\n",
      "episode of game 350, mean reward over population 78.17\n",
      "episode of game 360, mean reward over population 86.59\n",
      "episode of game 370, mean reward over population 87.58\n",
      "episode of game 380, mean reward over population 92.23\n",
      "episode of game 390, mean reward over population 96.68\n",
      "episode of game 400, mean reward over population 109.7\n",
      "episode of game 410, mean reward over population 121.25\n",
      "episode of game 420, mean reward over population 155.17\n",
      "episode of game 430, mean reward over population 182.44\n",
      "episode of game 440, mean reward over population 186.31\n",
      "iteration 441 mean reward over population 205.3\n",
      "Wall time: 47.2 s\n"
     ]
    }
   ],
   "source": [
    "%%time\n",
    "w_new = full_train_parallel(w)"
   ]
  },
  {
   "cell_type": "code",
   "execution_count": null,
   "metadata": {},
   "outputs": [],
   "source": []
  }
 ],
 "metadata": {
  "kernelspec": {
   "display_name": "Python 3",
   "language": "python",
   "name": "python3"
  },
  "language_info": {
   "codemirror_mode": {
    "name": "ipython",
    "version": 3
   },
   "file_extension": ".py",
   "mimetype": "text/x-python",
   "name": "python",
   "nbconvert_exporter": "python",
   "pygments_lexer": "ipython3",
   "version": "3.6.5"
  }
 },
 "nbformat": 4,
 "nbformat_minor": 2
}
